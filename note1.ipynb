{
 "cells": [
  {
   "cell_type": "code",
   "execution_count": 1,
   "metadata": {},
   "outputs": [
    {
     "ename": "ImportError",
     "evalue": "cannot import name 'linux_distribution' from 'platform' (/opt/python/3.10.4/lib/python3.10/platform.py)",
     "output_type": "error",
     "traceback": [
      "\u001b[0;31m---------------------------------------------------------------------------\u001b[0m",
      "\u001b[0;31mImportError\u001b[0m                               Traceback (most recent call last)",
      "\u001b[1;32m/workspaces/Tweet_Analysis/note1.ipynb Cell 1'\u001b[0m in \u001b[0;36m<cell line: 5>\u001b[0;34m()\u001b[0m\n\u001b[1;32m      <a href='vscode-notebook-cell://codespaces%2Bmedsimus-tweet-analysis-5ggjwxgp934j6q/workspaces/Tweet_Analysis/note1.ipynb#ch0000000vscode-remote?line=2'>3</a>\u001b[0m \u001b[39mimport\u001b[39;00m \u001b[39mtime\u001b[39;00m\n\u001b[1;32m      <a href='vscode-notebook-cell://codespaces%2Bmedsimus-tweet-analysis-5ggjwxgp934j6q/workspaces/Tweet_Analysis/note1.ipynb#ch0000000vscode-remote?line=3'>4</a>\u001b[0m \u001b[39mimport\u001b[39;00m \u001b[39mpandas\u001b[39;00m \u001b[39mas\u001b[39;00m \u001b[39mpd\u001b[39;00m\n\u001b[0;32m----> <a href='vscode-notebook-cell://codespaces%2Bmedsimus-tweet-analysis-5ggjwxgp934j6q/workspaces/Tweet_Analysis/note1.ipynb#ch0000000vscode-remote?line=4'>5</a>\u001b[0m \u001b[39mfrom\u001b[39;00m \u001b[39mmonfun\u001b[39;00m \u001b[39mimport\u001b[39;00m cnx,set_ip\n\u001b[1;32m      <a href='vscode-notebook-cell://codespaces%2Bmedsimus-tweet-analysis-5ggjwxgp934j6q/workspaces/Tweet_Analysis/note1.ipynb#ch0000000vscode-remote?line=5'>6</a>\u001b[0m \u001b[39mfrom\u001b[39;00m \u001b[39mtwifun\u001b[39;00m \u001b[39mimport\u001b[39;00m get_data,get_data2\n\u001b[1;32m      <a href='vscode-notebook-cell://codespaces%2Bmedsimus-tweet-analysis-5ggjwxgp934j6q/workspaces/Tweet_Analysis/note1.ipynb#ch0000000vscode-remote?line=6'>7</a>\u001b[0m \u001b[39mfrom\u001b[39;00m \u001b[39mkeep_run\u001b[39;00m \u001b[39mimport\u001b[39;00m keep_alive\n",
      "File \u001b[0;32m/workspaces/Tweet_Analysis/monfun.py:5\u001b[0m, in \u001b[0;36m<module>\u001b[0;34m\u001b[0m\n\u001b[1;32m      <a href='file:///workspaces/Tweet_Analysis/monfun.py?line=2'>3</a>\u001b[0m \u001b[39mimport\u001b[39;00m \u001b[39mrequests\u001b[39;00m\n\u001b[1;32m      <a href='file:///workspaces/Tweet_Analysis/monfun.py?line=3'>4</a>\u001b[0m \u001b[39mfrom\u001b[39;00m \u001b[39mrequests\u001b[39;00m\u001b[39m.\u001b[39;00m\u001b[39mauth\u001b[39;00m \u001b[39mimport\u001b[39;00m HTTPDigestAuth\n\u001b[0;32m----> <a href='file:///workspaces/Tweet_Analysis/monfun.py?line=4'>5</a>\u001b[0m \u001b[39mfrom\u001b[39;00m \u001b[39mipify\u001b[39;00m \u001b[39mimport\u001b[39;00m get_ip\n\u001b[1;32m      <a href='file:///workspaces/Tweet_Analysis/monfun.py?line=5'>6</a>\u001b[0m \u001b[39mfrom\u001b[39;00m \u001b[39mdatetime\u001b[39;00m \u001b[39mimport\u001b[39;00m datetime\n\u001b[1;32m      <a href='file:///workspaces/Tweet_Analysis/monfun.py?line=7'>8</a>\u001b[0m \u001b[39mdef\u001b[39;00m \u001b[39mcnx\u001b[39m(mongod_connect):\n",
      "File \u001b[0;32m/opt/python/3.10.4/lib/python3.10/site-packages/ipify/__init__.py:31\u001b[0m, in \u001b[0;36m<module>\u001b[0;34m\u001b[0m\n\u001b[1;32m     <a href='file:///opt/python/3.10.4/lib/python3.10/site-packages/ipify/__init__.py?line=26'>27</a>\u001b[0m __license__ \u001b[39m=\u001b[39m \u001b[39m'\u001b[39m\u001b[39mUNLICENSE\u001b[39m\u001b[39m'\u001b[39m\n\u001b[1;32m     <a href='file:///opt/python/3.10.4/lib/python3.10/site-packages/ipify/__init__.py?line=27'>28</a>\u001b[0m __version__ \u001b[39m=\u001b[39m \u001b[39m'\u001b[39m\u001b[39m1.0.0\u001b[39m\u001b[39m'\u001b[39m\n\u001b[0;32m---> <a href='file:///opt/python/3.10.4/lib/python3.10/site-packages/ipify/__init__.py?line=30'>31</a>\u001b[0m \u001b[39mfrom\u001b[39;00m \u001b[39m.\u001b[39;00m\u001b[39mipify\u001b[39;00m \u001b[39mimport\u001b[39;00m get_ip\n",
      "File \u001b[0;32m/opt/python/3.10.4/lib/python3.10/site-packages/ipify/ipify.py:14\u001b[0m, in \u001b[0;36m<module>\u001b[0;34m\u001b[0m\n\u001b[1;32m     <a href='file:///opt/python/3.10.4/lib/python3.10/site-packages/ipify/ipify.py?line=10'>11</a>\u001b[0m \u001b[39mfrom\u001b[39;00m \u001b[39mrequests\u001b[39;00m\u001b[39m.\u001b[39;00m\u001b[39mexceptions\u001b[39;00m \u001b[39mimport\u001b[39;00m RequestException\n\u001b[1;32m     <a href='file:///opt/python/3.10.4/lib/python3.10/site-packages/ipify/ipify.py?line=12'>13</a>\u001b[0m \u001b[39mfrom\u001b[39;00m \u001b[39m.\u001b[39;00m\u001b[39mexceptions\u001b[39;00m \u001b[39mimport\u001b[39;00m \u001b[39mConnectionError\u001b[39;00m, ServiceError\n\u001b[0;32m---> <a href='file:///opt/python/3.10.4/lib/python3.10/site-packages/ipify/ipify.py?line=13'>14</a>\u001b[0m \u001b[39mfrom\u001b[39;00m \u001b[39m.\u001b[39;00m\u001b[39msettings\u001b[39;00m \u001b[39mimport\u001b[39;00m API_URI, MAX_TRIES, USER_AGENT\n\u001b[1;32m     <a href='file:///opt/python/3.10.4/lib/python3.10/site-packages/ipify/ipify.py?line=16'>17</a>\u001b[0m \u001b[39m@on_exception\u001b[39m(expo, RequestException, max_tries\u001b[39m=\u001b[39mMAX_TRIES)\n\u001b[1;32m     <a href='file:///opt/python/3.10.4/lib/python3.10/site-packages/ipify/ipify.py?line=17'>18</a>\u001b[0m \u001b[39mdef\u001b[39;00m \u001b[39m_get_ip_resp\u001b[39m():\n\u001b[1;32m     <a href='file:///opt/python/3.10.4/lib/python3.10/site-packages/ipify/ipify.py?line=18'>19</a>\u001b[0m     \u001b[39m\"\"\"\u001b[39;00m\n\u001b[1;32m     <a href='file:///opt/python/3.10.4/lib/python3.10/site-packages/ipify/ipify.py?line=19'>20</a>\u001b[0m \u001b[39m    Internal function which attempts to retrieve this machine's public IP\u001b[39;00m\n\u001b[1;32m     <a href='file:///opt/python/3.10.4/lib/python3.10/site-packages/ipify/ipify.py?line=20'>21</a>\u001b[0m \u001b[39m    address from the ipify service (http://www.ipify.org).\u001b[39;00m\n\u001b[0;32m   (...)\u001b[0m\n\u001b[1;32m     <a href='file:///opt/python/3.10.4/lib/python3.10/site-packages/ipify/ipify.py?line=30'>31</a>\u001b[0m \u001b[39m        failed requests without giving up.\u001b[39;00m\n\u001b[1;32m     <a href='file:///opt/python/3.10.4/lib/python3.10/site-packages/ipify/ipify.py?line=31'>32</a>\u001b[0m \u001b[39m    \"\"\"\u001b[39;00m\n",
      "File \u001b[0;32m/opt/python/3.10.4/lib/python3.10/site-packages/ipify/settings.py:9\u001b[0m, in \u001b[0;36m<module>\u001b[0;34m\u001b[0m\n\u001b[1;32m      <a href='file:///opt/python/3.10.4/lib/python3.10/site-packages/ipify/settings.py?line=0'>1</a>\u001b[0m \u001b[39m\"\"\"\u001b[39;00m\n\u001b[1;32m      <a href='file:///opt/python/3.10.4/lib/python3.10/site-packages/ipify/settings.py?line=1'>2</a>\u001b[0m \u001b[39mipify.settings\u001b[39;00m\n\u001b[1;32m      <a href='file:///opt/python/3.10.4/lib/python3.10/site-packages/ipify/settings.py?line=2'>3</a>\u001b[0m \u001b[39m~~~~~~~~~~~~~~\u001b[39;00m\n\u001b[1;32m      <a href='file:///opt/python/3.10.4/lib/python3.10/site-packages/ipify/settings.py?line=3'>4</a>\u001b[0m \n\u001b[1;32m      <a href='file:///opt/python/3.10.4/lib/python3.10/site-packages/ipify/settings.py?line=4'>5</a>\u001b[0m \u001b[39mThis module contains internal settings that make our ipify library simpler.\u001b[39;00m\n\u001b[1;32m      <a href='file:///opt/python/3.10.4/lib/python3.10/site-packages/ipify/settings.py?line=5'>6</a>\u001b[0m \u001b[39m\"\"\"\u001b[39;00m\n\u001b[0;32m----> <a href='file:///opt/python/3.10.4/lib/python3.10/site-packages/ipify/settings.py?line=8'>9</a>\u001b[0m \u001b[39mfrom\u001b[39;00m \u001b[39mplatform\u001b[39;00m \u001b[39mimport\u001b[39;00m mac_ver, win32_ver, linux_distribution, system\n\u001b[1;32m     <a href='file:///opt/python/3.10.4/lib/python3.10/site-packages/ipify/settings.py?line=9'>10</a>\u001b[0m \u001b[39mfrom\u001b[39;00m \u001b[39msys\u001b[39;00m \u001b[39mimport\u001b[39;00m version_info \u001b[39mas\u001b[39;00m vi\n\u001b[1;32m     <a href='file:///opt/python/3.10.4/lib/python3.10/site-packages/ipify/settings.py?line=11'>12</a>\u001b[0m \u001b[39mfrom\u001b[39;00m \u001b[39m.\u001b[39;00m \u001b[39mimport\u001b[39;00m __version__\n",
      "\u001b[0;31mImportError\u001b[0m: cannot import name 'linux_distribution' from 'platform' (/opt/python/3.10.4/lib/python3.10/platform.py)"
     ]
    }
   ],
   "source": [
    "import os\n",
    "from datetime import datetime, timedelta\n",
    "import time\n",
    "import pandas as pd\n",
    "from monfun import cnx,set_ip\n",
    "from twifun import get_data,get_data2\n",
    "from keep_run import keep_alive\n",
    "\n",
    "mongod_connect = os.environ['cnx']\n",
    "consumer_key        =os.environ['api_key']\n",
    "consumer_secret     =os.environ['api_secret']\n",
    "access_token        =os.environ['access_token']\n",
    "access_token_secret =os.environ['access_secret']\n",
    "bearer_token        =os.environ['bearer_token']\n",
    "atlas_group_id = os.environ['project_id']\n",
    "atlas_api_key_public = os.environ['public_key']\n",
    "atlas_api_key_private = os.environ['private_key']\n",
    "\n",
    "#twitter arg \n",
    "keyword = \"inwi (lang:fr OR lang:ar)\"\n",
    "max_results = 100\n",
    "\n",
    "keep_alive()\n",
    "\n",
    "#cnx to mongodb\n",
    "deleteAfterDate=(datetime.now()+timedelta(hours=3,minutes=5)).isoformat()\n",
    "set_ip(atlas_group_id, atlas_api_key_public, atlas_api_key_private,deleteAfterDate)\n",
    "ctweet=cnx(mongod_connect)\n",
    "#get twitter data:\n",
    "end_time= datetime.now().strftime(\"%Y-%m-%dT%H:\")+\"00:00Z\"\n",
    "tweets_data = get_data(keyword,end_time,max_results,bearer_token)\n",
    "df = pd.json_normalize(tweets_data) \n",
    "since_id_new = tweets_data[-1]['id']      \n",
    "clx={}\n",
    "for i in tweets_data:\n",
    "    try:\n",
    "        clx[i[\"id\"]]=i\n",
    "      #print(i[\"created_at\"])\n",
    "    except Exception as e:\n",
    "        print(e)\n",
    "        pass\n",
    "  \n",
    "since_id_old = 0\n",
    "while since_id_new != since_id_old:\n",
    "    try:\n",
    "        since_id_old = since_id_new\n",
    "        tweets_data = get_data2(keyword,since_id_new,max_results,bearer_token)\n",
    "        since_id_new = tweets_data[-1]['id']\n",
    "        for i in tweets_data:\n",
    "            try:\n",
    "                clx[i[\"id\"]]=i\n",
    "                #print(i[\"created_at\"])\n",
    "            except:\n",
    "                pass\n",
    "    except:\n",
    "        pass\n",
    "    \n",
    "    print('New records',len(clx))\n",
    "    \n",
    "    for x in clx:\n",
    "        ctweet.delete_one({ \"id\": x })\n",
    "        ctweet.insert_one(clx[x])\n",
    "    \n",
    "    print('collection',ctweet.count_documents({}))\n",
    "    print('Done at ',datetime.now().strftime(\"%Y-%m-%dT%H:%M\"))\n",
    "    #time.sleep(10800)\n",
    "  #for document in ctweet.find():\n",
    "  #  clx_old[document['id']]=document\n",
    "  #  del clx_old[document['id']]['_id']\n",
    "  #clx_old.update(clx_new)"
   ]
  }
 ],
 "metadata": {
  "interpreter": {
   "hash": "4f946df053fbf2b937619d3c5458e7af74262f9a954d8797ba0b27400bcafe06"
  },
  "kernelspec": {
   "display_name": "Python 3.10.4 64-bit",
   "language": "python",
   "name": "python3"
  },
  "language_info": {
   "codemirror_mode": {
    "name": "ipython",
    "version": 3
   },
   "file_extension": ".py",
   "mimetype": "text/x-python",
   "name": "python",
   "nbconvert_exporter": "python",
   "pygments_lexer": "ipython3",
   "version": "3.10.4"
  },
  "orig_nbformat": 4
 },
 "nbformat": 4,
 "nbformat_minor": 2
}
